{
 "cells": [
  {
   "cell_type": "code",
   "execution_count": null,
   "metadata": {},
   "outputs": [],
   "source": [
    "include(\"../SVGD.jl\")\n",
    "\n",
    "using Plots\n",
    "using Distributions: MvNormal, pdf\n",
    "using Test\n",
    "import Statistics"
   ]
  },
  {
   "cell_type": "code",
   "execution_count": null,
   "metadata": {},
   "outputs": [],
   "source": [
    "\"\"\"\n",
    "    creating a mesh grid for PDF of given distribution\n",
    "\"\"\"\n",
    "function pdf_grid(x_, y_, dist_)\n",
    "    pdf_ = Array{Float64}(undef, size(x_, 1), size(y_, 1))\n",
    "    for i_ in 1:size(x_, 1)\n",
    "        for j_ in 1:size(y_, 1)\n",
    "            pdf_[i_, j_] = pdf(dist_, Vector([x_[i_], y_[j_]]))\n",
    "        end\n",
    "    end\n",
    "    return pdf_\n",
    "end\n",
    ";"
   ]
  },
  {
   "cell_type": "code",
   "execution_count": null,
   "metadata": {},
   "outputs": [],
   "source": [
    "# Data\n",
    "# ground truth mean and covariance matrix\n",
    "cov_mat = [0.333 0.357;0.357 0.666]\n",
    "mean_vec = [0. 0.]\n",
    "mvn = MvNormal(Vector(mean_vec[1, :]), Matrix(cov_mat))\n",
    "\n",
    "xx, yy = [-3.:.01:3.;], [-3.:.01:3.;]\n",
    "mvn_grid = pdf_grid(xx, yy, mvn)\n",
    "\n",
    "# heart samples\n",
    "x = [range(-2., 2, length=25);]\n",
    "y1 = sqrt.(1 .- (abs.(x) .- 1) .^ 2)\n",
    "y2 = - 3 * sqrt.(1 .- (abs.(x) ./ 2) .^ 0.5)\n",
    "\n",
    "init_particles = hcat(vcat(y1.+1, y2.+1), vcat(x, x))\n",
    ";"
   ]
  },
  {
   "cell_type": "code",
   "execution_count": null,
   "metadata": {},
   "outputs": [],
   "source": [
    "# plot PDF heatmap and heart particles\n",
    "heatmap(xx, yy, mvn_grid,\n",
    "    legend=false, border=:none, background_color_subplot=\"black\", background_color=:transparent)\n",
    "scatter!(init_particles[:, 2], init_particles[:, 1],\n",
    "    legend=false, color=\"White\", aspect_ratio=:equal, axis=nothing)\n"
   ]
  },
  {
   "cell_type": "code",
   "execution_count": null,
   "metadata": {},
   "outputs": [],
   "source": [
    "# creating the evaluate ana_dlogmvn\n",
    "ana_dlogmvn_eval(x) = ana_dlogmvn(mean_vec, cov_mat, x)\n",
    "\n",
    "trans_parts = update(init_particles, ana_dlogmvn_eval, n_epochs=2000, dt=0.002, opt=\"adagrad\")\n",
    "\n",
    "# testing the results\n",
    "@test all(isapprox.(Statistics.mean(trans_parts, dims=1), mean_vec, atol=0.1))\n",
    "@test all(isapprox.(Statistics.cov(trans_parts), cov_mat, atol=0.1))\n"
   ]
  },
  {
   "cell_type": "code",
   "execution_count": null,
   "metadata": {},
   "outputs": [],
   "source": [
    "# plot PDF heatmap and evolved particles\n",
    "heatmap(xx, yy, mvn_grid,\n",
    "    legend=false, border=:none, background_color_subplot=\"black\", background_color=:transparent)\n",
    "scatter!(trans_parts[:, 2], trans_parts[:, 1],\n",
    "    legend=false, color=\"White\", aspect_ratio=:equal, axis=nothing)\n"
   ]
  },
  {
   "cell_type": "code",
   "execution_count": null,
   "metadata": {},
   "outputs": [],
   "source": []
  }
 ],
 "metadata": {
  "kernelspec": {
   "display_name": "Julia 1.4.1",
   "language": "julia",
   "name": "julia-1.4"
  },
  "language_info": {
   "file_extension": ".jl",
   "mimetype": "application/julia",
   "name": "julia",
   "version": "1.4.1"
  }
 },
 "nbformat": 4,
 "nbformat_minor": 4
}
