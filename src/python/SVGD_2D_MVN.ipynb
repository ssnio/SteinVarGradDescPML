{
 "cells": [
  {
   "cell_type": "markdown",
   "metadata": {},
   "source": [
    "# Stein-Variational-Gradient-Descent\n",
    "Qiang Liu and Dilin Wang, [*Stein Variational Gradient Descent (SVGD): A General Purpose Bayesian Inference Algorithm*](https://arxiv.org/pdf/1608.04471.pdf), NIPS, 2016."
   ]
  },
  {
   "cell_type": "code",
   "execution_count": null,
   "metadata": {},
   "outputs": [],
   "source": [
    "# imports\n",
    "import SVGD\n",
    "\n",
    "from scipy.stats import multivariate_normal as mvn\n",
    "import numpy as np\n",
    "from functools import partial\n",
    "\n",
    "import matplotlib.pyplot as plt\n",
    "from matplotlib.animation import FuncAnimation\n",
    "plt.style.use('dark_background')\n",
    "\n",
    "import os\n",
    "from IPython.display import HTML\n"
   ]
  },
  {
   "cell_type": "code",
   "execution_count": null,
   "metadata": {},
   "outputs": [],
   "source": [
    "# Data\n",
    "# ground truth mean and covariance matrix\n",
    "cov = np.array([[0.333, 0.357],[0.357, 0.666]])\n",
    "mu = np.array([0., 0.])\n",
    "\n",
    "xx, yy = np.mgrid[-3.:3.:.01, -3.:3.:.01]\n",
    "pos = np.dstack((xx, yy))\n",
    "rv = mvn(mu, cov)\n",
    "\n",
    "# heart samples\n",
    "x = np.linspace(-2, 2, 25)\n",
    "y1 = np.sqrt(1 - (abs(x) - 1) ** 2)\n",
    "y2 = -3 * np.sqrt(1 - (abs(x) / 2) ** 0.5)\n",
    "\n",
    "init_particles = np.column_stack((np.concatenate((x, x)), np.concatenate((y1+1, y2+1))))\n"
   ]
  },
  {
   "cell_type": "code",
   "execution_count": null,
   "metadata": {},
   "outputs": [],
   "source": [
    "plt.figure(figsize=(6, 6))\n",
    "plt.contourf(xx, yy, rv.pdf(pos))\n",
    "plt.scatter(init_particles[:, 0], init_particles[:, 1], c='r')\n",
    "plt.axis('off')\n",
    "plt.axis('equal')\n",
    "plt.show()\n"
   ]
  },
  {
   "cell_type": "code",
   "execution_count": null,
   "metadata": {},
   "outputs": [],
   "source": [
    "# creating the evaluate d_log_pdf_mvn\n",
    "d_log_pdf_mvn_eval = partial(SVGD.d_log_pdf_mvn, mu, cov)\n",
    "\n",
    "transformed_particles = SVGD.update(init_particles, d_log_pdf_mvn_eval, n_iter=1600, stepsize=0.002)\n"
   ]
  },
  {
   "cell_type": "code",
   "execution_count": null,
   "metadata": {},
   "outputs": [],
   "source": [
    "# testing the results\n",
    "mu_particles = np.mean(transformed_particles, axis=0)\n",
    "cov_particles = np.cov(transformed_particles.T)\n",
    "print(\"particles' mean =\", mu_particles)\n",
    "print(\"true mean =\", mu)\n",
    "print(\"particles' COV=\\n\", cov_particles)\n",
    "print(\"true covariance =\\n\", cov)\n"
   ]
  },
  {
   "cell_type": "code",
   "execution_count": null,
   "metadata": {},
   "outputs": [],
   "source": [
    "plt.figure(figsize=(6, 6))\n",
    "plt.contourf(xx, yy, rv.pdf(pos))\n",
    "plt.scatter(transformed_particles[:, 0], transformed_particles[:, 1], c='r')\n",
    "plt.axis('off')\n",
    "plt.axis('equal')\n",
    "plt.show()\n"
   ]
  },
  {
   "cell_type": "code",
   "execution_count": null,
   "metadata": {},
   "outputs": [],
   "source": [
    "# update and record\n",
    "trans_parts, parts_evol, grads_rec = SVGD.update_record(init_particles, d_log_pdf_mvn_eval,\n",
    "                                                        n_iter=1200, stepsize=0.002)\n",
    "parts_evol = np.array(parts_evol)\n",
    "grads_rec = np.array(grads_rec)\n"
   ]
  },
  {
   "cell_type": "code",
   "execution_count": null,
   "metadata": {},
   "outputs": [],
   "source": [
    "# simple Animation\n",
    "num_frames = max(parts_evol.shape) - 1\n",
    "frame_step = num_frames//400\n",
    "\n",
    "fig = plt.figure(figsize=(7, 7))\n",
    "ax = fig.add_axes([0, 0, 1, 1], frameon=False)\n",
    "im = ax.contourf(xx, yy, rv.pdf(pos))\n",
    "scat = ax.scatter(parts_evol[0, :, 0],\n",
    "                  parts_evol[0, :, 1], c='r')\n",
    "\n",
    "plt.axis('off')\n",
    "plt.axis('equal')\n",
    "\n",
    "def update(frame_number):\n",
    "    xdata = parts_evol[frame_number, :, 0]\n",
    "    ydata = parts_evol[frame_number, :, 1]\n",
    "    scat.set_offsets(np.c_[xdata,ydata])\n",
    "\n",
    "simple_animation = FuncAnimation(fig, update, interval=40, frames=np.arange(0, num_frames, frame_step))\n",
    "# plt.show()\n",
    "plt.close(fig)\n"
   ]
  },
  {
   "cell_type": "code",
   "execution_count": null,
   "metadata": {},
   "outputs": [],
   "source": [
    "# uncomment to play the animation in notebook\n",
    "HTML(simple_animation.to_html5_video())\n"
   ]
  },
  {
   "cell_type": "code",
   "execution_count": null,
   "metadata": {},
   "outputs": [],
   "source": [
    "# uncomment to create a gif copy of the animation\n",
    "# statics = os.path.join(os.path.abspath(os.getcwd() + \"/../../\"), 'statics')\n",
    "# simple_animation.save(filename=str(statics + '/SVGD_2D_MVN_simple.gif'), fps=24, dpi=200)\n"
   ]
  },
  {
   "cell_type": "code",
   "execution_count": null,
   "metadata": {},
   "outputs": [],
   "source": [
    "# force (gradients) animation\n",
    "num_frames = max(parts_evol.shape) - 1\n",
    "frame_step = num_frames//400\n",
    "\n",
    "fig = plt.figure(figsize=(7, 7))\n",
    "ax = fig.add_axes([0, 0, 1, 1], frameon=False)\n",
    "\n",
    "cont = plt.contourf(xx, yy, rv.pdf(pos), cmap='BuGn')\n",
    "guiv_att = ax.quiver(parts_evol[0, :, 0], parts_evol[0, :, 1],\n",
    "                    grads_rec[0, 0, :, 0], grads_rec[0, 0, :, 1], color='r')\n",
    "guiv_rep = ax.quiver(parts_evol[0, :, 0], parts_evol[0, :, 1],\n",
    "                    grads_rec[0, 1, :, 0], grads_rec[0, 1, :, 1], color='b')\n",
    "scat = ax.scatter(parts_evol[0, :, 0], parts_evol[0, :, 1], c='k')\n",
    "\n",
    "plt.axis('off')\n",
    "plt.axis('equal')\n",
    "\n",
    "\n",
    "def update(f):\n",
    "\n",
    "    guiv_att.set_offsets(np.c_[parts_evol[f, :, 0], parts_evol[f, :, 1]])\n",
    "\n",
    "    guiv_rep.set_offsets(np.c_[parts_evol[f, :, 0], parts_evol[f, :, 1]])\n",
    "\n",
    "    guiv_att.set_UVC(grads_rec[f, 0, :, 0], grads_rec[f, 0, :, 1])\n",
    "    guiv_rep.set_UVC(grads_rec[f, 1, :, 0], grads_rec[f, 1, :, 1])\n",
    "\n",
    "    scat.set_offsets(np.c_[parts_evol[f, :, 0], parts_evol[f, :, 1]])\n",
    "\n",
    "quiver_animation = FuncAnimation(fig, update, interval=40, frames=np.arange(0, num_frames, frame_step))\n",
    "# plt.show()\n",
    "plt.close(fig)\n"
   ]
  },
  {
   "cell_type": "code",
   "execution_count": null,
   "metadata": {},
   "outputs": [],
   "source": [
    "# uncomment to play the animation in notebook\n",
    "HTML(quiver_animation.to_html5_video())\n"
   ]
  },
  {
   "cell_type": "code",
   "execution_count": null,
   "metadata": {},
   "outputs": [],
   "source": [
    "# uncomment to create a gif copy of the animation\n",
    "# statics = os.path.join(os.path.abspath(os.getcwd() + \"/../../\"), 'statics')\n",
    "# quiver_animation.save(filename=str(statics + '/SVGD_2D_MVN_quiver.gif'), fps=24, dpi=200)\n"
   ]
  }
 ],
 "metadata": {
  "kernelspec": {
   "display_name": "Python 3",
   "language": "python",
   "name": "python3"
  },
  "language_info": {
   "codemirror_mode": {
    "name": "ipython",
    "version": 3
   },
   "file_extension": ".py",
   "mimetype": "text/x-python",
   "name": "python",
   "nbconvert_exporter": "python",
   "pygments_lexer": "ipython3",
   "version": "3.8.6"
  }
 },
 "nbformat": 4,
 "nbformat_minor": 4
}
